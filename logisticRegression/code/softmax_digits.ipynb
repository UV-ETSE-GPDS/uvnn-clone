{
 "cells": [
  {
   "cell_type": "markdown",
   "metadata": {},
   "source": [
    "This notebook is for training softmax regression, the code resides in **softmax_digits.py**. Algorithm is implemented in **softmax_example.py and nnbase.py**. nnbase can be adapted for variety of neural network types. \n",
    "The data comes from MNIST dataset, specifically https://www.kaggle.com/c/digit-recognizer. We have in total 42000 images encoded in 28x28 grayscale matrix. test set size is 28000. Solution right now has accuracy - 0.912"
   ]
  },
  {
   "cell_type": "code",
   "execution_count": 1,
   "metadata": {
    "collapsed": false
   },
   "outputs": [],
   "source": [
    "%load_ext autotime\n",
    "%matplotlib inline\n",
    "%load_ext autoreload\n",
    "%autoreload 2"
   ]
  },
  {
   "cell_type": "code",
   "execution_count": 2,
   "metadata": {
    "collapsed": false
   },
   "outputs": [
    {
     "name": "stdout",
     "output_type": "stream",
     "text": [
      ".DS_Store                     0.0MB\n",
      "test.csv                      51.0MB\n",
      "train.csv                     76.0MB\n",
      "Soft limit starts as  : 9223372036854775807\n",
      "Soft limit changed to : 2024000000\n",
      "time: 1.07 s\n"
     ]
    }
   ],
   "source": [
    "import os\n",
    "import seaborn as sns\n",
    "import matplotlib.pyplot as plt\n",
    "import numpy as np\n",
    "import pandas as pd\n",
    "\n",
    "from sklearn.decomposition import PCA\n",
    "sns.set(color_codes=True)\n",
    "plt.rcParams['savefig.dpi'] = 100\n",
    "\n",
    "from IPython.display import display\n",
    "\n",
    "for f in os.listdir('../input'):\n",
    "    print(f.ljust(30) + str(round(os.path.getsize('../input/' + f) / 1000000, 2)) + 'MB')\n",
    "\n",
    "\n",
    "from softmax_digits import *"
   ]
  },
  {
   "cell_type": "code",
   "execution_count": 53,
   "metadata": {
    "collapsed": false
   },
   "outputs": [
    {
     "name": "stdout",
     "output_type": "stream",
     "text": [
      "Soft limit starts as  : 2024000000\n",
      "Soft limit changed to : 2024000000\n",
      "X_train shape (40000, 784)\n",
      "X_dev shape (1000, 784)\n",
      "X_test shape (1000, 784)\n",
      "time: 9.8 s\n"
     ]
    }
   ],
   "source": [
    "# read and preprocess data, see softmax_digits.py\n",
    "(X_train, y_train, X_dev, y_dev, X_test, y_test, X_fulltest) = get_data(num_train=40000, \n",
    "        num_dev=1000, num_test=1000)"
   ]
  },
  {
   "cell_type": "code",
   "execution_count": 5,
   "metadata": {
    "collapsed": false
   },
   "outputs": [
    {
     "name": "stdout",
     "output_type": "stream",
     "text": [
      "Training data size is 40000\n",
      "time: 20 ms\n"
     ]
    }
   ],
   "source": [
    "# Here we try different batch size strategies\n",
    "nepoch = 5\n",
    "sz = len(y_train)\n",
    "print 'Training data size is', sz\n",
    "N = nepoch * len(y_train)\n",
    "k = 8 # minibatch size\n",
    "\n",
    "random.seed(10)\n",
    "def epoch_sch():\n",
    "    for i in xrange(nepoch):\n",
    "        for j in xrange(sz):\n",
    "            yield j\n",
    "\n",
    "def rand_sch():\n",
    "    for i in xrange(N):\n",
    "        yield random.randint(0, sz)\n",
    "\n",
    "def rand_minibatch(n, k):\n",
    "    # minibatch with size k\n",
    "    for _ in xrange (n / k):\n",
    "        yield [random.randint(0, sz) for _ in xrange(k)]\n"
   ]
  },
  {
   "cell_type": "code",
   "execution_count": 45,
   "metadata": {
    "collapsed": false
   },
   "outputs": [
    {
     "name": "stdout",
     "output_type": "stream",
     "text": [
      "Begin SGD...\n",
      "  Seen 0 in 0.00 s\n",
      "  [0]: mean train loss 3.01903 mean valid loss 3.05237\n",
      "  [2000]: mean train loss 0.507443 mean valid loss 0.534396\n",
      "  [4000]: mean train loss 0.41336 mean valid loss 0.431532\n",
      "  [6000]: mean train loss 0.376265 mean valid loss 0.394057\n",
      "  [8000]: mean train loss 0.35401 mean valid loss 0.370783\n",
      "  Seen 10000 in 20.85 s\n",
      "  [10000]: mean train loss 0.339771 mean valid loss 0.35885\n",
      "  [12000]: mean train loss 0.329393 mean valid loss 0.350208\n",
      "  [14000]: mean train loss 0.321395 mean valid loss 0.343615\n",
      "  [16000]: mean train loss 0.314683 mean valid loss 0.338602\n",
      "  [18000]: mean train loss 0.309679 mean valid loss 0.337222\n",
      "  Seen 20000 in 41.72 s\n",
      "  [20000]: mean train loss 0.30561 mean valid loss 0.329494\n",
      "  [22000]: mean train loss 0.301682 mean valid loss 0.331052\n",
      "  [24000]: mean train loss 0.297993 mean valid loss 0.328711\n",
      "  [26000]: mean train loss 0.294839 mean valid loss 0.325922\n",
      "  [28000]: mean train loss 0.292419 mean valid loss 0.326294\n",
      "  Seen 30000 in 63.16 s\n",
      "  [30000]: mean train loss 0.290335 mean valid loss 0.325674\n",
      "  [31250]: mean loss 0.289212\n",
      "SGD complete: 31250 examples in 68.32 seconds.\n",
      "time: 1min 8s\n"
     ]
    }
   ],
   "source": [
    "sr = SoftmaxRegression(wv=zeros_like(X_train), dims=(784, 10), alpha=0.0001, reg=0.001)\n",
    "curve = sr.train_sgd(X_train, y_train, rand_minibatch(500000, 16), costevery=2000, devX=X_dev, devy=y_dev)"
   ]
  },
  {
   "cell_type": "code",
   "execution_count": 46,
   "metadata": {
    "collapsed": false
   },
   "outputs": [
    {
     "name": "stdout",
     "output_type": "stream",
     "text": [
      "time: 14.2 ms\n"
     ]
    }
   ],
   "source": [
    "counts, costs, costdevs  = zip(*curve)"
   ]
  },
  {
   "cell_type": "code",
   "execution_count": 47,
   "metadata": {
    "collapsed": false
   },
   "outputs": [
    {
     "name": "stdout",
     "output_type": "stream",
     "text": [
      "time: 13.8 ms\n"
     ]
    }
   ],
   "source": [
    "# plot train and dev errors"
   ]
  },
  {
   "cell_type": "code",
   "execution_count": 52,
   "metadata": {
    "collapsed": false
   },
   "outputs": [
    {
     "name": "stdout",
     "output_type": "stream",
     "text": [
      "Soft limit starts as  : 2024000000\n",
      "Soft limit changed to : 2024000000\n"
     ]
    },
    {
     "data": {
      "text/plain": [
       "<matplotlib.legend.Legend at 0x109dd8ad0>"
      ]
     },
     "execution_count": 52,
     "metadata": {},
     "output_type": "execute_result"
    },
    {
     "data": {
      "image/png": "[encoded data removed]",
      "text/plain": [
       "<matplotlib.figure.Figure at 0x10974a990>"
      ]
     },
     "metadata": {},
     "output_type": "display_data"
    },
    {
     "name": "stdout",
     "output_type": "stream",
     "text": [
      "time: 393 ms\n"
     ]
    }
   ],
   "source": [
    "plt.figure(figsize=(6,4))\n",
    "\n",
    "plt.plot(5*array(counts), costs, color='b', marker='o', linestyle='-', label=r\"train_loss\")\n",
    "plt.plot(5*array(counts), costdevs, color='g', marker='o', linestyle='-', label=r\"validation_loss\")\n",
    "\n",
    "plt.title(r\"Learning Curve ($\\lambda=0.001$, costevery=5000)\")\n",
    "plt.xlabel(\"SGD Iterations\"); plt.ylabel(r\"Average $J(\\theta)$\"); \n",
    "plt.ylim(ymin=0, ymax=max(1.1*max(costs),3*min(costs)));\n",
    "plt.legend()\n",
    "#plt.show()"
   ]
  },
  {
   "cell_type": "code",
   "execution_count": 49,
   "metadata": {
    "collapsed": false
   },
   "outputs": [
    {
     "name": "stdout",
     "output_type": "stream",
     "text": [
      "accuracy on test 0.911\n",
      "time: 48.5 ms\n"
     ]
    }
   ],
   "source": [
    "accuracy_test = np.count_nonzero(sr.predict(X_test) == y_test) / double(len(y_test))\n",
    "print 'accuracy on test', accuracy_test"
   ]
  },
  {
   "cell_type": "code",
   "execution_count": 50,
   "metadata": {
    "collapsed": false
   },
   "outputs": [
    {
     "name": "stdout",
     "output_type": "stream",
     "text": [
      "time: 906 ms\n"
     ]
    }
   ],
   "source": [
    "# generate prediction for full data set\n",
    "y_fulltest = sr.predict(X_fulltest)"
   ]
  },
  {
   "cell_type": "code",
   "execution_count": 51,
   "metadata": {
    "collapsed": false
   },
   "outputs": [
    {
     "name": "stdout",
     "output_type": "stream",
     "text": [
      "time: 56.4 ms\n"
     ]
    }
   ],
   "source": [
    "def write_to_fle(pred, fn):\n",
    "    ''' write file in csv format'''\n",
    "    df = pd.DataFrame()\n",
    "    df[\"ImageId\"] = range(1, len(pred) + 1)\n",
    "    df[\"Label\"] = pred\n",
    "    df.to_csv(\"../output/\" + fn, index=False)\n",
    "write_to_fle(y_fulltest, \"softmax_res.csv\")"
   ]
  }
 ],
 "metadata": {
  "kernelspec": {
   "display_name": "Python 2",
   "language": "python",
   "name": "python2"
  },
  "language_info": {
   "codemirror_mode": {
    "name": "ipython",
    "version": 2
   },
   "file_extension": ".py",
   "mimetype": "text/x-python",
   "name": "python",
   "nbconvert_exporter": "python",
   "pygments_lexer": "ipython2",
   "version": "2.7.11"
  }
 },
 "nbformat": 4,
 "nbformat_minor": 0
}
