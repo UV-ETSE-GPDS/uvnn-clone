{
 "cells": [
  {
   "cell_type": "markdown",
   "metadata": {},
   "source": [
    "### multilayer perceptron, code in mlp.py, activation in hidden layer is tanh"
   ]
  },
  {
   "cell_type": "code",
   "execution_count": 4,
   "metadata": {
    "collapsed": false
   },
   "outputs": [
    {
     "name": "stdout",
     "output_type": "stream",
     "text": [
      "The autoreload extension is already loaded. To reload it, use:\n",
      "  %reload_ext autoreload\n"
     ]
    }
   ],
   "source": [
    "#%load_ext autotime\n",
    "%matplotlib inline\n",
    "%load_ext autoreload\n",
    "%autoreload 2"
   ]
  },
  {
   "cell_type": "code",
   "execution_count": 46,
   "metadata": {
    "collapsed": false
   },
   "outputs": [],
   "source": [
    "import os\n",
    "import seaborn as sns\n",
    "import matplotlib.pyplot as plt\n",
    "import numpy as np\n",
    "import pandas as pd\n",
    "\n",
    "sns.set(color_codes=True)\n",
    "plt.rcParams['savefig.dpi'] = 100\n",
    "\n",
    "from IPython.display import display\n",
    "\n",
    "import softmax_digits as softdg\n",
    "from mlp import MLP"
   ]
  },
  {
   "cell_type": "code",
   "execution_count": 48,
   "metadata": {
    "collapsed": false
   },
   "outputs": [
    {
     "name": "stdout",
     "output_type": "stream",
     "text": [
      "X_train shape (4800, 400)\n",
      "X_dev shape (100, 400)\n",
      "X_test shape (100, 400)\n"
     ]
    }
   ],
   "source": [
    "# read and preprocess data, see softmax_digits.py\n",
    "(X_train, y_train, X_dev, y_dev, X_test, y_test, X_fulltest) = softdg.get_data(num_train=4800, \n",
    "        num_dev=100, num_test=100)"
   ]
  },
  {
   "cell_type": "code",
   "execution_count": 49,
   "metadata": {
    "collapsed": false
   },
   "outputs": [
    {
     "name": "stdout",
     "output_type": "stream",
     "text": [
      "Training data size is 4800\n"
     ]
    }
   ],
   "source": [
    "# Here we try different batch size strategies\n",
    "import random\n",
    "nepoch = 5\n",
    "sz = len(y_train)\n",
    "print 'Training data size is', sz\n",
    "N = nepoch * len(y_train)\n",
    "k = 8 # minibatch size\n",
    "\n",
    "random.seed(10)\n",
    "def epoch_sch():\n",
    "    for i in xrange(nepoch):\n",
    "        for j in xrange(sz):\n",
    "            yield j\n",
    "\n",
    "def rand_sch():\n",
    "    for i in xrange(N):\n",
    "        yield random.randint(0, sz)\n",
    "\n",
    "def rand_minibatch(n, k):\n",
    "    # minibatch with size k\n",
    "    for _ in xrange (n / k):\n",
    "        ret = [np.random.randint(0, sz) for _ in xrange(k)] \n",
    "        yield ret\n",
    "def fullbatch():\n",
    "    for i in range(500):\n",
    "        ret = range(sz)\n",
    "        yield ret\n"
   ]
  },
  {
   "cell_type": "code",
   "execution_count": 66,
   "metadata": {
    "collapsed": false
   },
   "outputs": [
    {
     "name": "stdout",
     "output_type": "stream",
     "text": [
      "Begin SGD...\n",
      "  Seen 0 in 0.00 s\n",
      "  [0]: mean train loss 2.40118 mean valid loss 2.40269\n",
      "  [1000]: mean train loss 1.32511 mean valid loss 1.33744\n",
      "  [2000]: mean train loss 1.1549 mean valid loss 1.16118\n",
      "  [3000]: mean train loss 1.07155 mean valid loss 1.0813\n",
      "  [4000]: mean train loss 1.0219 mean valid loss 1.0615\n",
      "  [5000]: mean train loss 1.01356 mean valid loss 1.05334\n",
      "  [6000]: mean train loss 1.01223 mean valid loss 1.07651\n",
      "  [7000]: mean train loss 1.00717 mean valid loss 1.07317\n",
      "  [8000]: mean train loss 1.00543 mean valid loss 1.09148\n",
      "  [9000]: mean train loss 1.00455 mean valid loss 1.10743\n",
      "  Seen 10000 in 10.08 s\n",
      "  [10000]: mean train loss 1.00344 mean valid loss 1.11883\n",
      "  [11000]: mean train loss 0.991749 mean valid loss 1.10478\n",
      "  [12000]: mean train loss 0.981725 mean valid loss 1.12437\n",
      "  [13000]: mean train loss 0.97265 mean valid loss 1.12781\n",
      "  [14000]: mean train loss 0.971045 mean valid loss 1.12102\n",
      "  [15000]: mean train loss 0.965315 mean valid loss 1.11293\n",
      "  [16000]: mean train loss 0.962123 mean valid loss 1.08365\n",
      "  [17000]: mean train loss 0.958731 mean valid loss 1.06916\n",
      "  [18000]: mean train loss 0.954401 mean valid loss 1.07209\n",
      "  [19000]: mean train loss 0.958997 mean valid loss 1.07689\n",
      "  Seen 20000 in 20.11 s\n",
      "  [20000]: mean train loss 0.96015 mean valid loss 1.05896\n",
      "  [21000]: mean train loss 0.961145 mean valid loss 1.07029\n",
      "  [22000]: mean train loss 0.960096 mean valid loss 1.09702\n",
      "  [23000]: mean train loss 0.96587 mean valid loss 1.09112\n",
      "  [24000]: mean train loss 0.965991 mean valid loss 1.0797\n",
      "  [25000]: mean train loss 0.966554 mean valid loss 1.09571\n",
      "  [26000]: mean train loss 0.968532 mean valid loss 1.10038\n",
      "  [27000]: mean train loss 0.96985 mean valid loss 1.10029\n",
      "  [28000]: mean train loss 0.973117 mean valid loss 1.14443\n",
      "  [29000]: mean train loss 0.977174 mean valid loss 1.18522\n",
      "  Seen 30000 in 30.21 s\n",
      "  [30000]: mean train loss 0.977775 mean valid loss 1.19813\n",
      "  [31000]: mean train loss 0.976968 mean valid loss 1.19912\n",
      "  [32000]: mean train loss 0.976662 mean valid loss 1.19443\n",
      "  [33000]: mean train loss 0.977655 mean valid loss 1.2012\n",
      "SGD Interrupted: saw 33123 examples in 33.49 seconds.\n"
     ]
    }
   ],
   "source": [
    "mlp = MLP(dims=(400, 20, 10), alpha=0.001, reg=0.001)\n",
    "curve = mlp.train_sgd(X_train, y_train, rand_minibatch(1000000, 8), costevery=1000, devX=X_dev, devy=y_dev)\n",
    "counts, costs, costdevs  = zip(*curve)"
   ]
  },
  {
   "cell_type": "code",
   "execution_count": 67,
   "metadata": {
    "collapsed": false
   },
   "outputs": [
    {
     "data": {
      "text/plain": [
       "<matplotlib.legend.Legend at 0x10abe0150>"
      ]
     },
     "execution_count": 67,
     "metadata": {},
     "output_type": "execute_result"
    },
    {
     "data": {
      "image/png": "[encoded data removed]",
      "text/plain": [
       "<matplotlib.figure.Figure at 0x10a114510>"
      ]
     },
     "metadata": {},
     "output_type": "display_data"
    }
   ],
   "source": [
    "# plot train and dev errors\n",
    "plt.figure(figsize=(6,4))\n",
    "\n",
    "plt.plot(5*np.array(counts), costs, color='b', marker='o', linestyle='-', label=r\"train_loss\")\n",
    "plt.plot(5*np.array(counts), costdevs, color='g', marker='o', linestyle='-', label=r\"validation_loss\")\n",
    "\n",
    "plt.title(r\"Learning Curve ($\\lambda=0.001$, costevery=5000)\")\n",
    "plt.xlabel(\"SGD Iterations\"); plt.ylabel(r\"Average $J(\\theta)$\"); \n",
    "plt.ylim(ymin=0, ymax=max(1.1*max(costs),3*min(costs)));\n",
    "plt.legend()\n",
    "#plt.show()"
   ]
  },
  {
   "cell_type": "code",
   "execution_count": 68,
   "metadata": {
    "collapsed": false
   },
   "outputs": [
    {
     "name": "stdout",
     "output_type": "stream",
     "text": [
      "accuracy on test 0.59\n",
      "accuracy on test 0.653541666667\n"
     ]
    }
   ],
   "source": [
    "accuracy_test = np.count_nonzero(mlp.predict(X_test) == y_test) / float(len(y_test))\n",
    "print 'accuracy on test', accuracy_test\n",
    "accuracy_test = np.count_nonzero(mlp.predict(X_train) == y_train) / float(len(y_train))\n",
    "print 'accuracy on test', accuracy_test"
   ]
  },
  {
   "cell_type": "code",
   "execution_count": null,
   "metadata": {
    "collapsed": true
   },
   "outputs": [],
   "source": []
  }
 ],
 "metadata": {
  "kernelspec": {
   "display_name": "Python 2",
   "language": "python",
   "name": "python2"
  },
  "language_info": {
   "codemirror_mode": {
    "name": "ipython",
    "version": 2
   },
   "file_extension": ".py",
   "mimetype": "text/x-python",
   "name": "python",
   "nbconvert_exporter": "python",
   "pygments_lexer": "ipython2",
   "version": "2.7.11"
  }
 },
 "nbformat": 4,
 "nbformat_minor": 0
}
