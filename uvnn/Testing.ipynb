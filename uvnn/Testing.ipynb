{
 "cells": [
  {
   "cell_type": "code",
   "execution_count": 1,
   "metadata": {
    "collapsed": false
   },
   "outputs": [],
   "source": [
    "%matplotlib inline\n",
    "%load_ext autoreload\n",
    "%autoreload 2\n",
    "%load_ext autotime\n",
    "\n",
    "import seaborn as sns\n",
    "sns.set(color_codes=True)\n",
    "import matplotlib.pyplot as plt\n",
    "import numpy as np\n",
    "plt.rcParams['savefig.dpi'] = 100\n",
    "\n",
    "from IPython.display import display\n",
    "\n",
    "from utils.readers import CsvReader\n",
    "from clfpipeline import Clfpipeline\n",
    "from classifiers.mlp import MLP\n",
    "from classifiers.softmax_example import SoftmaxRegression\n",
    "from classifiers.misc import merge_dicts"
   ]
  },
  {
   "cell_type": "code",
   "execution_count": 2,
   "metadata": {
    "collapsed": false
   },
   "outputs": [],
   "source": [
    "csv_reader = CsvReader(has_header=False, fn='input/trunc_mnist/trunc_mnist20x20_inputs.csv', fn_labels='input/trunc_mnist/trunc_mnist20x20_targets.csv')\n",
    "pipe = Clfpipeline(csv_reader)\n",
    "pipe.prepare_data()\n",
    "n_samples = pipe.X_train.shape[0]"
   ]
  },
  {
   "cell_type": "markdown",
   "metadata": {},
   "source": []
  },
  {
   "cell_type": "markdown",
   "metadata": {},
   "source": [
    "# truncmnist"
   ]
  },
  {
   "cell_type": "code",
   "execution_count": 2,
   "metadata": {
    "collapsed": false
   },
   "outputs": [],
   "source": [
    "csv_reader = CsvReader(has_header=False, fn='input/trunc_mnist/trunc_mnist20x20_inputs.csv', fn_labels='input/trunc_mnist/trunc_mnist20x20_targets.csv')\n",
    "pipe = Clfpipeline(csv_reader)\n",
    "pipe.prepare_data()"
   ]
  },
  {
   "cell_type": "code",
   "execution_count": 4,
   "metadata": {
    "collapsed": false
   },
   "outputs": [],
   "source": [
    "conf_clf = {'dims':(400, 50, 10), \n",
    "            'alpha':0.001, \n",
    "            'reg':0.001}\n",
    "conf_train = {'batchsize':9,\n",
    "              'costevery': 10,\n",
    "               'nepoch': 200}\n",
    "fullconf = merge_dicts(conf_clf, conf_train)\n",
    "pipe.set_classifier(SoftmaxRegression(**conf_clf))\n",
    "pipe.train(**conf_train)\n",
    "pipe.plot()\n"
   ]
  },
  {
   "cell_type": "code",
   "execution_count": 121,
   "metadata": {
    "collapsed": false
   },
   "outputs": [],
   "source": [
    "pipe.save_weights(algo_name=\"LR\", dataset_name=\"TRUNCMNIST\", confs=fullconf, folder=\"output/truncmnist/\")"
   ]
  },
  {
   "cell_type": "markdown",
   "metadata": {},
   "source": [
    "# Iris Dataset"
   ]
  },
  {
   "cell_type": "code",
   "execution_count": 97,
   "metadata": {
    "collapsed": false
   },
   "outputs": [],
   "source": [
    "csv_reader = CsvReader(has_header=False, fn='input/iris/iris-data-num_lab.csv', label_pos=-1)\n",
    "pipe = Clfpipeline(csv_reader)\n",
    "pipe.prepare_data()"
   ]
  },
  {
   "cell_type": "code",
   "execution_count": 98,
   "metadata": {
    "collapsed": false,
    "scrolled": true
   },
   "outputs": [],
   "source": [
    "conf_clf = {'dims':(4, 7, 3), \n",
    "            'alpha':0.01, \n",
    "            'reg':0.01}\n",
    "\n",
    "conf_train = {'batchsize':-1,\n",
    "              'costevery': 50,\n",
    "               'nepoch': 300}\n",
    "fullconf = merge_dicts(conf_clf, conf_train)\n",
    "\n",
    "pipe.set_classifier(MLP(**conf_clf))\n",
    "pipe.train(**conf_train)\n",
    "pipe.plot()"
   ]
  },
  {
   "cell_type": "code",
   "execution_count": 95,
   "metadata": {
    "collapsed": false
   },
   "outputs": [],
   "source": [
    "pipe.save_weights(algo_name=\"MLP\", dataset_name=\"IRIS\", confs=fullconf, folder=\"output/truncmnist/\")"
   ]
  },
  {
   "cell_type": "markdown",
   "metadata": {},
   "source": [
    "# Full mnist"
   ]
  },
  {
   "cell_type": "code",
   "execution_count": 135,
   "metadata": {
    "collapsed": false
   },
   "outputs": [],
   "source": [
    "csv_reader = CsvReader(has_header=False, fn='input/full_mnist/fullmnist_inp_transp', fn_labels='input/full_mnist/fullMNIST_labels.csv')\n",
    "pipe = Clfpipeline(csv_reader)\n",
    "pipe.prepare_data()"
   ]
  },
  {
   "cell_type": "code",
   "execution_count": null,
   "metadata": {
    "collapsed": false
   },
   "outputs": [],
   "source": [
    "conf_clf = {'dims':(784, 20, 10), \n",
    "            'alpha':0.05, \n",
    "            'reg':0.0001}\n",
    "\n",
    "conf_train = {'batchsize':10,\n",
    "              'costevery': 1,\n",
    "               'nepoch': 300}\n",
    "fullconf = merge_dicts(conf_clf, conf_train)\n",
    "\n",
    "pipe.set_classifier(MLP(**conf_clf))\n",
    "pipe.train(**conf_train)\n",
    "pipe.plot()"
   ]
  },
  {
   "cell_type": "code",
   "execution_count": 125,
   "metadata": {
    "collapsed": false
   },
   "outputs": [],
   "source": [
    "\n",
    "\n",
    "import pandas as pd\n",
    "fullmnist = pd.read_csv('input/full_mnist/fullMNIST_inputs.csv', header=None)"
   ]
  },
  {
   "cell_type": "code",
   "execution_count": 134,
   "metadata": {
    "collapsed": false
   },
   "outputs": [],
   "source": [
    "np.savetxt(\"fullmnist_inp_transp\", fullmnist.as_matrix().T, delimiter= ',', fmt='%d')"
   ]
  },
  {
   "cell_type": "markdown",
   "metadata": {
    "collapsed": true
   },
   "source": [
    "## Autoencoder_Sparse\n"
   ]
  },
  {
   "cell_type": "code",
   "execution_count": 4,
   "metadata": {
    "collapsed": false
   },
   "outputs": [],
   "source": [
    "from classifiers.autoencoder_sparse import AutoEncoderSparse\n",
    "from utils.preprocessors import AutoEncoderPP\n",
    "\n",
    "csv_reader = CsvReader(has_header=False, fn='input/trunc_mnist/trunc_mnist20x20_inputs.csv')\n",
    "pipe = Clfpipeline(csv_reader, PreProc=AutoEncoderPP)\n",
    "pipe.prepare_data()"
   ]
  },
  {
   "cell_type": "code",
   "execution_count": 55,
   "metadata": {
    "collapsed": false
   },
   "outputs": [],
   "source": [
    "ac = AutoEncoderSparse(**conf_clf)\n",
    "ac.grad_check(X, X)"
   ]
  },
  {
   "cell_type": "code",
   "execution_count": 10,
   "metadata": {
    "collapsed": false
   },
   "outputs": [],
   "source": [
    "conf_clf = {'dims':(400, 32, 400), \n",
    "            'alpha':0.00005, \n",
    "            'reg':0.0000,\n",
    "            'beta':0,\n",
    "            'ro':0.05}\n",
    "\n",
    "conf_train = {'batchsize':-1,\n",
    "              'costevery': 1,\n",
    "               'nepoch': 300,\n",
    "                'acc_batch':True}\n",
    "fullconf = merge_dicts(conf_clf, conf_train)\n",
    "\n",
    "#aec = AutoEncoderSparse(**conf_clf)\n",
    "#aec.grad_check(pipe.X[0], pipe.X[0])\n",
    "pipe.set_classifier(AutoEncoderSparse(**conf_clf))\n",
    "pipe.train(**conf_train)\n",
    "#pipe.plot()"
   ]
  },
  {
   "cell_type": "markdown",
   "metadata": {},
   "source": [
    "### Try with Keras"
   ]
  },
  {
   "cell_type": "code",
   "execution_count": 71,
   "metadata": {
    "collapsed": false
   },
   "outputs": [],
   "source": [
    "pipe.save_weights(algo_name=\"AE_SPARSE\", dataset_name=\"TRUNCMNIST\", confs=fullconf, folder=\"output/truncmnist/\")"
   ]
  },
  {
   "cell_type": "code",
   "execution_count": 11,
   "metadata": {
    "collapsed": false
   },
   "outputs": [],
   "source": [
    "pipe.plot()"
   ]
  },
  {
   "cell_type": "code",
   "execution_count": 12,
   "metadata": {
    "collapsed": false
   },
   "outputs": [],
   "source": [
    "X = pipe.preprocessor.X[4]"
   ]
  },
  {
   "cell_type": "code",
   "execution_count": 26,
   "metadata": {
    "collapsed": false
   },
   "outputs": [],
   "source": [
    "np.min(pipe.preprocessor.X)\n",
    "#np.max(pipe.preprocessor.X)"
   ]
  },
  {
   "cell_type": "code",
   "execution_count": 53,
   "metadata": {
    "collapsed": false
   },
   "outputs": [],
   "source": [
    "mn = np.min(pipe.preprocessor.X)\n",
    "mx = np.max(pipe.preprocessor.X)\n",
    "print mn, mx\n",
    "def num_to_col(num):\n",
    "    return 255. / (mx - mn) * (num + np.abs(mn))\n",
    "    "
   ]
  },
  {
   "cell_type": "code",
   "execution_count": 43,
   "metadata": {
    "collapsed": false
   },
   "outputs": [],
   "source": [
    "vfunc = np.vectorize(num_to_col)\n",
    "yy = vfunc(X)"
   ]
  },
  {
   "cell_type": "code",
   "execution_count": 49,
   "metadata": {
    "collapsed": false
   },
   "outputs": [],
   "source": [
    "pipe.preprocessor.X[2].shape"
   ]
  },
  {
   "cell_type": "code",
   "execution_count": 59,
   "metadata": {
    "collapsed": false
   },
   "outputs": [],
   "source": [
    "def vis_images(dataset, img_n, img_m, n):\n",
    "    \"\"\" Visualize input and output images of autoencoder\n",
    "    img_n, img_m : image dimensions\n",
    "    n : number of images to display\n",
    "    \"\"\"\n",
    "\n",
    "    plt.figure(figsize=(20, 4))\n",
    "    for i in range(n):\n",
    "        # display original\n",
    "        ax = plt.subplot(2, n, i + 1)\n",
    "        mg = vfunc(dataset[i])\n",
    "        plt.imshow(mg.reshape(img_n, img_m))\n",
    "        plt.gray()\n",
    "        ax.get_xaxis().set_visible(False)\n",
    "        ax.get_yaxis().set_visible(False)\n",
    "\n",
    "        # display reconstruction\n",
    "        ax = plt.subplot(2, n, i + 1 + n)\n",
    "        dmg, _ = pipe.classifier.predict_single(dataset[i])\n",
    "        plt.imshow(dmg.reshape(img_n, img_m))\n",
    "        plt.gray()\n",
    "        ax.get_xaxis().set_visible(False)\n",
    "        ax.get_yaxis().set_visible(False)\n",
    "    plt.show()\n",
    "    \n",
    "vis_images(pipe.preprocessor.X, 20, 20, 5)\n",
    "\n",
    "\n"
   ]
  },
  {
   "cell_type": "code",
   "execution_count": 15,
   "metadata": {
    "collapsed": false
   },
   "outputs": [],
   "source": [
    "plt.bar(range(len(X)), np.abs(X - XX))\n",
    "#sns.heatmap()\n",
    "plt.show()\n",
    "#plt.bar(range(len(X)), np.abs(X))\n",
    "print np.sum(X**2)\n",
    "print np.sum((X - XX) ** 2)"
   ]
  },
  {
   "cell_type": "code",
   "execution_count": null,
   "metadata": {
    "collapsed": true
   },
   "outputs": [],
   "source": []
  }
 ],
 "metadata": {
  "git": {
   "suppress_outputs": true
  },
  "kernelspec": {
   "display_name": "Python 2",
   "language": "python",
   "name": "python2"
  },
  "language_info": {
   "codemirror_mode": {
    "name": "ipython",
    "version": 2
   },
   "file_extension": ".py",
   "mimetype": "text/x-python",
   "name": "python",
   "nbconvert_exporter": "python",
   "pygments_lexer": "ipython2",
   "version": "2.7.11"
  }
 },
 "nbformat": 4,
 "nbformat_minor": 0
}