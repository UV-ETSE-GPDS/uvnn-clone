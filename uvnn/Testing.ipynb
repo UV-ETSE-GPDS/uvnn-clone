{
 "cells": [
  {
   "cell_type": "code",
   "execution_count": 78,
   "metadata": {
    "collapsed": false
   },
   "outputs": [],
   "source": [
    "%matplotlib inline\n",
    "%load_ext autoreload\n",
    "%autoreload 2\n",
    "\n",
    "import seaborn as sns\n",
    "sns.set(color_codes=True)\n",
    "import matplotlib.pyplot as plt\n",
    "import numpy as np\n",
    "plt.rcParams['savefig.dpi'] = 100\n",
    "\n",
    "from IPython.display import display\n",
    "\n",
    "from utils.readers import CsvReader\n",
    "from clfpipeline import Clfpipeline\n",
    "from classifiers.mlp import MLP\n",
    "from classifiers.softmax_example import SoftmaxRegression\n",
    "from classifiers.misc import merge_dicts"
   ]
  },
  {
   "cell_type": "code",
   "execution_count": 13,
   "metadata": {
    "collapsed": false
   },
   "outputs": [],
   "source": [
    "csv_reader = CsvReader(has_header=False, fn='input/trunc_mnist/trunc_mnist20x20_inputs.csv', fn_labels='input/trunc_mnist/trunc_mnist20x20_targets.csv')\n",
    "pipe = Clfpipeline(csv_reader)\n",
    "pipe.prepare_data()\n",
    "n_samples = pipe.X_train.shape[0]"
   ]
  },
  {
   "cell_type": "markdown",
   "metadata": {},
   "source": []
  },
  {
   "cell_type": "markdown",
   "metadata": {},
   "source": [
    "# truncmnist"
   ]
  },
  {
   "cell_type": "code",
   "execution_count": 102,
   "metadata": {
    "collapsed": false
   },
   "outputs": [],
   "source": [
    "csv_reader = CsvReader(has_header=False, fn='input/trunc_mnist/trunc_mnist20x20_inputs.csv', fn_labels='input/trunc_mnist/trunc_mnist20x20_targets.csv')\n",
    "pipe = Clfpipeline(csv_reader)\n",
    "pipe.prepare_data()"
   ]
  },
  {
   "cell_type": "code",
   "execution_count": 120,
   "metadata": {
    "collapsed": false
   },
   "outputs": [],
   "source": [
    "conf_clf = {'dims':(400, 50, 10), \n",
    "            'alpha':0.001, \n",
    "            'reg':0.001}\n",
    "conf_train = {'batchsize':-1,\n",
    "              'costevery': 10,\n",
    "               'nepoch': 200}\n",
    "fullconf = merge_dicts(conf_clf, conf_train)\n",
    "pipe.set_classifier(SoftmaxRegression(**conf_clf))\n",
    "pipe.train(**conf_train)\n",
    "pipe.plot()\n"
   ]
  },
  {
   "cell_type": "code",
   "execution_count": 121,
   "metadata": {
    "collapsed": false
   },
   "outputs": [],
   "source": [
    "pipe.save_weights(algo_name=\"LR\", dataset_name=\"TRUNCMNIST\", confs=fullconf, folder=\"output/truncmnist/\")"
   ]
  },
  {
   "cell_type": "markdown",
   "metadata": {},
   "source": [
    "# Iris Dataset"
   ]
  },
  {
   "cell_type": "code",
   "execution_count": 97,
   "metadata": {
    "collapsed": false
   },
   "outputs": [],
   "source": [
    "csv_reader = CsvReader(has_header=False, fn='input/iris/iris-data-num_lab.csv', label_pos=-1)\n",
    "pipe = Clfpipeline(csv_reader)\n",
    "pipe.prepare_data()"
   ]
  },
  {
   "cell_type": "code",
   "execution_count": 98,
   "metadata": {
    "collapsed": false,
    "scrolled": true
   },
   "outputs": [],
   "source": [
    "conf_clf = {'dims':(4, 7, 3), \n",
    "            'alpha':0.01, \n",
    "            'reg':0.01}\n",
    "\n",
    "conf_train = {'batchsize':-1,\n",
    "              'costevery': 50,\n",
    "               'nepoch': 300}\n",
    "fullconf = merge_dicts(conf_clf, conf_train)\n",
    "\n",
    "pipe.set_classifier(MLP(**conf_clf))\n",
    "pipe.train(**conf_train)\n",
    "pipe.plot()"
   ]
  },
  {
   "cell_type": "code",
   "execution_count": 95,
   "metadata": {
    "collapsed": false
   },
   "outputs": [],
   "source": [
    "pipe.save_weights(algo_name=\"MLP\", dataset_name=\"IRIS\", confs=fullconf, folder=\"output/truncmnist/\")"
   ]
  },
  {
   "cell_type": "code",
   "execution_count": null,
   "metadata": {
    "collapsed": true
   },
   "outputs": [],
   "source": []
  }
 ],
 "metadata": {
  "git": {
   "suppress_outputs": true
  },
  "kernelspec": {
   "display_name": "Python 2",
   "language": "python",
   "name": "python2"
  },
  "language_info": {
   "codemirror_mode": {
    "name": "ipython",
    "version": 2
   },
   "file_extension": ".py",
   "mimetype": "text/x-python",
   "name": "python",
   "nbconvert_exporter": "python",
   "pygments_lexer": "ipython2",
   "version": "2.7.11"
  }
 },
 "nbformat": 4,
 "nbformat_minor": 0
}