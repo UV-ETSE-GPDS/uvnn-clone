{
 "cells": [
  {
   "cell_type": "code",
   "execution_count": 11,
   "metadata": {
    "collapsed": false
   },
   "outputs": [],
   "source": [
    "# Set up and load modules nothing special here\n",
    "%matplotlib inline\n",
    "%load_ext autoreload\n",
    "%autoreload 2\n",
    "%load_ext autotime\n",
    "\n",
    "import matplotlib.pyplot as plt\n",
    "import numpy as np\n",
    "import seaborn as sns\n",
    "\n",
    "from evtcd import *\n",
    "plt.rcParams['savefig.dpi'] = 90"
   ]
  },
  {
   "cell_type": "code",
   "execution_count": 12,
   "metadata": {
    "collapsed": false
   },
   "outputs": [],
   "source": [
    "spike_history = train_network(cf, 400, 100)"
   ]
  },
  {
   "cell_type": "code",
   "execution_count": 13,
   "metadata": {
    "collapsed": false
   },
   "outputs": [],
   "source": [
    "from operator import attrgetter\n",
    "spikes_sorted = sorted(spike_history, key=attrgetter('time'))"
   ]
  },
  {
   "cell_type": "markdown",
   "metadata": {
    "collapsed": true
   },
   "source": [
    "#### spikes_sorted"
   ]
  },
  {
   "cell_type": "code",
   "execution_count": 14,
   "metadata": {
    "collapsed": false
   },
   "outputs": [],
   "source": [
    "import collections\n",
    "last_spike_count = 15\n",
    "last_spiked_in = [collections.deque(maxlen=last_spike_count) for _ in range(5)]\n",
    "plt_m, plt_n = 5, 1\n",
    "plt.figure(figsize=(3 * plt_m, 3 * plt_n))"
   ]
  },
  {
   "cell_type": "code",
   "execution_count": 16,
   "metadata": {
    "collapsed": false
   },
   "outputs": [],
   "source": [
    "\n",
    "for triplet in spikes_sorted:\n",
    "    #print triplet\n",
    "    trip_layer = triplet.layer\n",
    "    last_spiked_in[trip_layer + 1].append(triplet)\n",
    "    #print last_spiked_in\n",
    "    # -1 th layer 20 x 20 (imaginary)\n",
    "    layer_sizes = [(20, 20), (20, 20), (10, 10), (20, 20), (10, 10)]\n",
    "    arrs = [np.zeros(shp) for shp in layer_sizes]\n",
    "    for layer in range(5):\n",
    "        display.clear_output(wait=True) \n",
    "        for sp_tr in last_spiked_in[layer]:\n",
    "            #print sp_tr\n",
    "            addr = sp_tr.address\n",
    "            sz_x, sz_y  = layer_sizes[layer]\n",
    "            #print sz_x, sz_y, layer\n",
    "            arrs[layer][addr % sz_x, addr / sz_y] = 1\n",
    "        ax = plt.subplot(plt_n, plt_m, layer + 1)\n",
    "        ax.get_xaxis().set_visible(False)\n",
    "        ax.get_yaxis().set_visible(False)\n",
    "        plt.gray()\n",
    "        plt.imshow(arrs[layer])\n",
    "        plt.draw()\n",
    "    display.display(plt.gcf())\n",
    "    time.sleep(0.1)\n",
    "\n",
    "    \n",
    "    "
   ]
  },
  {
   "cell_type": "code",
   "execution_count": null,
   "metadata": {
    "collapsed": true
   },
   "outputs": [],
   "source": []
  }
 ],
 "metadata": {
  "git": {
   "suppress_outputs": true
  },
  "kernelspec": {
   "display_name": "Python 2",
   "language": "python",
   "name": "python2"
  },
  "language_info": {
   "codemirror_mode": {
    "name": "ipython",
    "version": 2
   },
   "file_extension": ".py",
   "mimetype": "text/x-python",
   "name": "python",
   "nbconvert_exporter": "python",
   "pygments_lexer": "ipython2",
   "version": "2.7.11"
  }
 },
 "nbformat": 4,
 "nbformat_minor": 0
}