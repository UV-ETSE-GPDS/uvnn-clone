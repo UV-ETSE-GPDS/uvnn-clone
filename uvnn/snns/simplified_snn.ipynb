{
 "cells": [
  {
   "cell_type": "code",
   "execution_count": 3,
   "metadata": {
    "collapsed": false
   },
   "outputs": [],
   "source": [
    "# Set up and load modules nothing special here\n",
    "%matplotlib inline\n",
    "%load_ext autoreload\n",
    "%autoreload 2\n",
    "%load_ext autotime\n",
    "\n",
    "import seaborn as sns\n",
    "sns.set(color_codes=True)\n",
    "import matplotlib.pyplot as plt\n",
    "import numpy as np\n",
    "plt.rcParams['savefig.dpi'] = 100"
   ]
  },
  {
   "cell_type": "code",
   "execution_count": 4,
   "metadata": {
    "collapsed": false
   },
   "outputs": [],
   "source": [
    "from uvnn.snns.multi_neuron import simulate"
   ]
  },
  {
   "cell_type": "code",
   "execution_count": 27,
   "metadata": {
    "collapsed": false
   },
   "outputs": [],
   "source": [
    "conf = {'time_step': 1, # simulation step second\n",
    "       'simulation_time':500, # seconds\n",
    "        'D':1.5, # potential degradation value\n",
    "        'p_max':3,\n",
    "        'p_min':-10,\n",
    "        'p_rest':0,\n",
    "        't_refr':9,\n",
    "        'n_input':4,\n",
    "        'n_output':2,\n",
    "        'spike_periods':[10, 20, 30, 40],\n",
    "        'w_max':2,\n",
    "        'w_min':-1,\n",
    "        'sigma':0.1,\n",
    "        'margin':2,\n",
    "        'windowsize':5,\n",
    "        'tau_plus':10,\n",
    "        'tau_minus':10,\n",
    "        'a_plus':0.2,\n",
    "        'a_minus':-0.2,\n",
    "       }\n",
    "#traces, out_spikes = simulate(**conf)"
   ]
  },
  {
   "cell_type": "code",
   "execution_count": 28,
   "metadata": {
    "collapsed": false
   },
   "outputs": [],
   "source": [
    "traces, out_spikes = simulate(**conf)\n",
    "trace1, trace2 = zip(*traces)\n",
    "#print trace2\n",
    "#print out_spikes"
   ]
  },
  {
   "cell_type": "code",
   "execution_count": 29,
   "metadata": {
    "collapsed": false
   },
   "outputs": [],
   "source": [
    "f, axarr = plt.subplots(2, sharex=True)\n",
    "axarr[0].plot(trace1)\n",
    "axarr[0].set_title('Membrane potentials')\n",
    "axarr[1].plot(trace2)"
   ]
  }
 ],
 "metadata": {
  "git": {
   "suppress_outputs": true
  },
  "kernelspec": {
   "display_name": "Python 2",
   "language": "python",
   "name": "python2"
  },
  "language_info": {
   "codemirror_mode": {
    "name": "ipython",
    "version": 2
   },
   "file_extension": ".py",
   "mimetype": "text/x-python",
   "name": "python",
   "nbconvert_exporter": "python",
   "pygments_lexer": "ipython2",
   "version": "2.7.11"
  }
 },
 "nbformat": 4,
 "nbformat_minor": 0
}