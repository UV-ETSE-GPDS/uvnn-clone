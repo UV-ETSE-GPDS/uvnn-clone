{
 "cells": [
  {
   "cell_type": "code",
   "execution_count": 762,
   "metadata": {
    "collapsed": false
   },
   "outputs": [],
   "source": [
    "# Set up and load modules nothing special here\n",
    "%matplotlib inline\n",
    "%load_ext autoreload\n",
    "%autoreload 2\n",
    "%load_ext autotime\n",
    "\n",
    "import seaborn as sns\n",
    "sns.set(color_codes=True)\n",
    "import matplotlib.pyplot as plt\n",
    "import numpy as np\n",
    "plt.rcParams['savefig.dpi'] = 150\n",
    "from uvnn.snns.multi_neuron import simulate"
   ]
  },
  {
   "cell_type": "markdown",
   "metadata": {},
   "source": [
    "#### Generate 4 spike trains, first and third changes periods 10, 40, 10 ... , second and last 40, 10, ... each period cycles  lasts for frag_time seconds"
   ]
  },
  {
   "cell_type": "code",
   "execution_count": 837,
   "metadata": {
    "collapsed": false
   },
   "outputs": [],
   "source": [
    "sim_time = 2000\n",
    "frag_time = 200\n",
    "def gen_spike(periods = [10, 40], sim_time = 200, frag_time=100):\n",
    "    # build a spike train with alternating periods\n",
    "    ret = []\n",
    "    t_now = 0\n",
    "    cur_period = 0\n",
    "    while (t_now < sim_time):\n",
    "        fragment = range(t_now, t_now + frag_time, periods[cur_period])\n",
    "        ret.extend(fragment)\n",
    "        cur_period = (cur_period + 1) % len(periods)        \n",
    "        t_now = fragment[-1] + periods[cur_period]\n",
    "    return ret\n",
    "\n",
    "train1 = gen_spike([50, 83], sim_time, frag_time)\n",
    "train2 = gen_spike([83, 50], sim_time, frag_time)\n",
    "#train2 = np.array(train1) + 25\n",
    "train3 = []\n",
    "train4 = []\n",
    "#train3 = gen_spike([5, 21], sim_time, frag_time)\n",
    "#train4 = gen_spike([21, 5], sim_time, frag_time)\n",
    "spike_trains = [train1, train2]#, train3, train4]\n",
    "print train1\n"
   ]
  },
  {
   "cell_type": "code",
   "execution_count": 851,
   "metadata": {
    "collapsed": false
   },
   "outputs": [],
   "source": [
    "conf = {'time_step': 1, # simulation step second\n",
    "       'simulation_time':sim_time, # seconds\n",
    "        'D':0.01, # potential degradation value\n",
    "        'p_max':3,\n",
    "        'p_min':-2,\n",
    "        'p_rest':0,\n",
    "        't_refr':14,\n",
    "        'n_input':4,\n",
    "        'n_output':2,\n",
    "        'spike_trains':spike_trains,\n",
    "        'w_max':15,\n",
    "        'w_min':-15,\n",
    "        'sigma':0.1,\n",
    "        'margin':0,\n",
    "        'windowsize':10,\n",
    "        'tau_plus':20,\n",
    "        'tau_minus':20,\n",
    "        'a_plus':0.2,\n",
    "        'a_minus':-0.2,\n",
    "        'd_neighbours':0.1\n",
    "       }\n",
    "#traces, out_spikes = simulate(**conf)"
   ]
  },
  {
   "cell_type": "code",
   "execution_count": 852,
   "metadata": {
    "collapsed": false
   },
   "outputs": [],
   "source": [
    "traces, out_spikes, w_trace = simulate(**conf)\n",
    "trace1, trace2 = zip(*traces)\n",
    "print len(train1)\n",
    "#print len(trace1)\n",
    "#print trace2\n",
    "#print out_spikes"
   ]
  },
  {
   "cell_type": "code",
   "execution_count": 853,
   "metadata": {
    "collapsed": false,
    "scrolled": true
   },
   "outputs": [],
   "source": [
    "plt.rcParams['savefig.dpi'] = 80\n",
    "w_graph = [np.sum(x) for x in w_trace]\n",
    "plt.plot(w_graph)"
   ]
  },
  {
   "cell_type": "code",
   "execution_count": 854,
   "metadata": {
    "collapsed": false
   },
   "outputs": [],
   "source": [
    "plt.rcParams['savefig.dpi'] = 150\n",
    "f, axarr = plt.subplots(3, sharex=True)\n",
    "axarr[0].plot(trace1)\n",
    "#axarr[0]\n",
    "axarr[0].set_title('Membrane potentials')\n",
    "axarr[1].plot(trace2, c='b')\n",
    "\n",
    "# inputs\n",
    "\n",
    "def ys(arr, value):\n",
    "    # get the array with the same length as arr all element value\n",
    "    return [value for _ in range(len(arr))]\n",
    "\n",
    "\n",
    "def plot_things(axx):\n",
    "    arr_inp0 = list(set(train1) | set(train3))\n",
    "\n",
    "    arr_inp1 = list(set(train2) | set(train4))\n",
    "    axx.scatter(arr_inp0, ys(arr_inp0, 0), c='r', alpha=1)\n",
    "    axx.scatter(arr_inp1, ys(arr_inp1, 1), c='k')\n",
    "\n",
    "    # outputs\n",
    "    arr_out0 = list(out_spikes[0])\n",
    "    arr_out1 = list(out_spikes[1])\n",
    "    axx.scatter(arr_out0, ys(arr_out0, 3), c='y', marker='s')\n",
    "    axx.scatter(arr_out1, ys(arr_out1, 2), c='g', marker='s')\n",
    "\n",
    "plot_things(axarr[0])\n",
    "plot_things(axarr[1])\n"
   ]
  }
 ],
 "metadata": {
  "git": {
   "suppress_outputs": true
  },
  "kernelspec": {
   "display_name": "Python 2",
   "language": "python",
   "name": "python2"
  },
  "language_info": {
   "codemirror_mode": {
    "name": "ipython",
    "version": 2
   },
   "file_extension": ".py",
   "mimetype": "text/x-python",
   "name": "python",
   "nbconvert_exporter": "python",
   "pygments_lexer": "ipython2",
   "version": "2.7.11"
  }
 },
 "nbformat": 4,
 "nbformat_minor": 0
}