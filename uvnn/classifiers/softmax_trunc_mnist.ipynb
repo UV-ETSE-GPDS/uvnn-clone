{
 "cells": [
  {
   "cell_type": "markdown",
   "metadata": {},
   "source": [
    "This notebook is for training softmax regression, the code resides in **softmax_digits.py**. Algorithm is implemented in **softmax_example.py and nnbase.py**. nnbase can be adapted for variety of neural network types. \n",
    "Data is truncated mnist provided by Taras"
   ]
  },
  {
   "cell_type": "code",
   "execution_count": 2,
   "metadata": {
    "collapsed": false
   },
   "outputs": [],
   "source": [
    "#%load_ext autotime\n",
    "%matplotlib inline\n",
    "%load_ext autoreload\n",
    "%autoreload 2"
   ]
  },
  {
   "cell_type": "code",
   "execution_count": 3,
   "metadata": {
    "collapsed": false
   },
   "outputs": [],
   "source": [
    "import os\n",
    "import seaborn as sns\n",
    "import matplotlib.pyplot as plt\n",
    "import numpy as np\n",
    "import pandas as pd\n",
    "\n",
    "sns.set(color_codes=True)\n",
    "plt.rcParams['savefig.dpi'] = 100\n",
    "\n",
    "from IPython.display import display\n",
    "\n",
    "import softmax_digits as softdg\n",
    "from softmax_example import SoftmaxRegression"
   ]
  },
  {
   "cell_type": "code",
   "execution_count": 4,
   "metadata": {
    "collapsed": false
   },
   "outputs": [],
   "source": [
    "# read and preprocess data, see softmax_digits.py\n",
    "(X_train, y_train, X_dev, y_dev, X_test, y_test, X_fulltest) = softdg.get_data(num_train=4800, \n",
    "        num_dev=100, num_test=100)"
   ]
  },
  {
   "cell_type": "code",
   "execution_count": 5,
   "metadata": {
    "collapsed": false
   },
   "outputs": [],
   "source": [
    "# Here we try different batch size strategies\n",
    "import random\n",
    "nepoch = 5\n",
    "sz = len(y_train)\n",
    "print 'Training data size is', sz\n",
    "N = nepoch * len(y_train)\n",
    "k = 8 # minibatch size\n",
    "\n",
    "random.seed(10)\n",
    "def epoch_sch():\n",
    "    for i in xrange(nepoch):\n",
    "        for j in xrange(sz):\n",
    "            yield j\n",
    "\n",
    "def rand_sch():\n",
    "    for i in xrange(N):\n",
    "        yield random.randint(0, sz)\n",
    "\n",
    "def rand_minibatch(n, k):\n",
    "    # minibatch with size k\n",
    "    for _ in xrange (n / k):\n",
    "        ret = [np.random.randint(0, sz) for _ in xrange(k)] \n",
    "        yield ret\n",
    "def fullbatch():\n",
    "    for i in range(500):\n",
    "        ret = range(sz)\n",
    "        yield ret\n"
   ]
  },
  {
   "cell_type": "code",
   "execution_count": 44,
   "metadata": {
    "collapsed": false
   },
   "outputs": [],
   "source": [
    "sr = SoftmaxRegression(wv=np.zeros_like(X_train), dims=(400, 10), alpha=0.0001, reg=0.01)\n",
    "curve = sr.train_sgd(X_train, y_train, fullbatch(), costevery=100, devX=X_dev, devy=y_dev)\n",
    "counts, costs, costdevs  = zip(*curve)"
   ]
  },
  {
   "cell_type": "code",
   "execution_count": 45,
   "metadata": {
    "collapsed": false
   },
   "outputs": [],
   "source": [
    "# plot train and dev errors\n",
    "plt.figure(figsize=(6,4))\n",
    "\n",
    "plt.plot(5*np.array(counts), costs, color='b', marker='o', linestyle='-', label=r\"train_loss\")\n",
    "plt.plot(5*np.array(counts), costdevs, color='g', marker='o', linestyle='-', label=r\"validation_loss\")\n",
    "\n",
    "plt.title(r\"Learning Curve ($\\lambda=0.001$, costevery=5000)\")\n",
    "plt.xlabel(\"SGD Iterations\"); plt.ylabel(r\"Average $J(\\theta)$\"); \n",
    "plt.ylim(ymin=0, ymax=max(1.1*max(costs),3*min(costs)));\n",
    "plt.legend()\n",
    "#plt.show()"
   ]
  },
  {
   "cell_type": "code",
   "execution_count": 46,
   "metadata": {
    "collapsed": false
   },
   "outputs": [],
   "source": [
    "accuracy_test = np.count_nonzero(sr.predict(X_test) == y_test) / float(len(y_test))\n",
    "print 'accuracy on test', accuracy_test\n",
    "accuracy_test = np.count_nonzero(sr.predict(X_train) == y_train) / float(len(y_train))\n",
    "print 'accuracy on test', accuracy_test"
   ]
  }
 ],
 "metadata": {
  "git": {
   "suppress_outputs": true
  },
  "kernelspec": {
   "display_name": "Python 2",
   "language": "python",
   "name": "python2"
  },
  "language_info": {
   "codemirror_mode": {
    "name": "ipython",
    "version": 2
   },
   "file_extension": ".py",
   "mimetype": "text/x-python",
   "name": "python",
   "nbconvert_exporter": "python",
   "pygments_lexer": "ipython2",
   "version": "2.7.11"
  }
 },
 "nbformat": 4,
 "nbformat_minor": 0
}